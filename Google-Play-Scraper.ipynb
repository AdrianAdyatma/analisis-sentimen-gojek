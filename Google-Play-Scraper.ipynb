{
 "cells": [
  {
   "cell_type": "code",
   "execution_count": 74,
   "id": "e50a4517",
   "metadata": {},
   "outputs": [],
   "source": [
    "from google_play_scraper import Sort, reviews, reviews_all, app\n",
    "import pandas as pd"
   ]
  },
  {
   "cell_type": "code",
   "execution_count": 85,
   "id": "7e4576c9",
   "metadata": {
    "scrolled": false
   },
   "outputs": [
    {
     "data": {
      "text/plain": [
       "1    500\n",
       "Name: score, dtype: int64"
      ]
     },
     "execution_count": 85,
     "metadata": {},
     "output_type": "execute_result"
    }
   ],
   "source": [
    "# reviews_1 = reviews_all(\n",
    "#     'com.gojek.app',\n",
    "#     sleep_milliseconds=0, # defaults to 0\n",
    "#     lang='id', # defaults to 'en'\n",
    "#     country='id', # defaults to 'us'\n",
    "#     sort=Sort.MOST_RELEVANT, # defaults to Sort.MOST_RELEVANT\n",
    "#     filter_score_with=1 # defaults to None(means all score)\n",
    "# )\n",
    "    \n",
    "# print (len(reviews_1))\n",
    "\n",
    "score_1, continuation_token = reviews(\n",
    "    'com.gojek.app',\n",
    "    lang='id',\n",
    "    country='id',\n",
    "    sort='sort.MOST_RELEVANT',\n",
    "    count=500,\n",
    "    filter_score_with=1\n",
    ")\n",
    "\n",
    "df = pd.DataFrame(score_1)\n",
    "# print(df)\n",
    "\n",
    "df['score'].value_counts()"
   ]
  },
  {
   "cell_type": "code",
   "execution_count": 86,
   "id": "f9b17ef1",
   "metadata": {},
   "outputs": [
    {
     "data": {
      "text/plain": [
       "5    500\n",
       "Name: score, dtype: int64"
      ]
     },
     "execution_count": 86,
     "metadata": {},
     "output_type": "execute_result"
    }
   ],
   "source": [
    "score_5, continuation_token = reviews(\n",
    "    'com.gojek.app',\n",
    "    lang='id',\n",
    "    country='id',\n",
    "    sort='sort.MOST_RELEVANT',\n",
    "    count=500,\n",
    "    filter_score_with=5\n",
    ")\n",
    "\n",
    "df = pd.DataFrame(score_5)\n",
    "# print(df)\n",
    "\n",
    "df['score'].value_counts()"
   ]
  },
  {
   "cell_type": "code",
   "execution_count": 87,
   "id": "f30ab580",
   "metadata": {},
   "outputs": [
    {
     "name": "stdout",
     "output_type": "stream",
     "text": [
      "jumlah review total:  1000\n"
     ]
    }
   ],
   "source": [
    "import pymongo\n",
    "from datetime import datetime\n",
    "\n",
    "reviews_all = score_1 + score_5 \n",
    "print ('jumlah review total: ', len(reviews_all))\n",
    "\n",
    "# Export to MongoDB\n",
    "client = pymongo.MongoClient('localhost', 27017)\n",
    "db = client['nlp-skripsi']\n",
    "collection_name = \"gojek-\" + datetime.now().strftime(\"%Y_%m_%d-%H_%M_%S\")\n",
    "collection = db[collection_name]\n",
    "\n",
    "for item in reviews_all:\n",
    "    collection.insert_one(item)"
   ]
  },
  {
   "cell_type": "code",
   "execution_count": 88,
   "id": "8c72dcaf",
   "metadata": {},
   "outputs": [
    {
     "name": "stdout",
     "output_type": "stream",
     "text": [
      "jumlah data:  1000\n"
     ]
    }
   ],
   "source": [
    "\n",
    "import csv\n",
    "\n",
    "i = 0\n",
    "header = ['id', 'date', 'username', 'text', 'score', 'polarity']\n",
    "\n",
    "with open('Files/reviews_unprocessed.csv', 'w', encoding='utf-8') as file:\n",
    "    csvwriter = csv.writer(file)\n",
    "    csvwriter.writerow(i for i in header)\n",
    "\n",
    "    for review in collection.find():\n",
    "        i += 1\n",
    "\n",
    "        id = review['reviewId']\n",
    "        date = review['at']\n",
    "        username = review['userName']\n",
    "        text = review['content']\n",
    "        score = review['score']\n",
    "        polarity = 1 if review['score'] > 3 else -1 if review['score'] < 3 else 0\n",
    "\n",
    "        csvwriter.writerow([id, date, username, text, score, polarity])\n",
    "    \n",
    "print('jumlah data: ', i)"
   ]
  }
 ],
 "metadata": {
  "interpreter": {
   "hash": "ec888513fea26e1f988441157eff6c1b6a0f97afba1f35ae35239287b4dd67e4"
  },
  "kernelspec": {
   "display_name": "Python 3.10.0 ('venv': venv)",
   "language": "python",
   "name": "python3"
  },
  "language_info": {
   "codemirror_mode": {
    "name": "ipython",
    "version": 3
   },
   "file_extension": ".py",
   "mimetype": "text/x-python",
   "name": "python",
   "nbconvert_exporter": "python",
   "pygments_lexer": "ipython3",
   "version": "3.10.0"
  }
 },
 "nbformat": 4,
 "nbformat_minor": 5
}
