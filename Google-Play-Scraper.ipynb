{
 "cells": [
  {
   "cell_type": "code",
   "execution_count": 52,
   "id": "e50a4517",
   "metadata": {},
   "outputs": [],
   "source": [
    "from google_play_scraper import Sort, reviews_all, app"
   ]
  },
  {
   "cell_type": "code",
   "execution_count": 85,
   "id": "7e4576c9",
   "metadata": {
    "scrolled": false
   },
   "outputs": [
    {
     "name": "stdout",
     "output_type": "stream",
     "text": [
      "2587\n"
     ]
    }
   ],
   "source": [
    "reviews_1 = reviews_all(\n",
    "    'com.gojek.app',\n",
    "    sleep_milliseconds=0, # defaults to 0\n",
    "    lang='id', # defaults to 'en'\n",
    "    country='id', # defaults to 'us'\n",
    "    sort=Sort.MOST_RELEVANT, # defaults to Sort.MOST_RELEVANT\n",
    "    filter_score_with=1 # defaults to None(means all score)\n",
    ")\n",
    "    \n",
    "print (len(reviews_1))\n",
    "\n",
    "# app('com.gojek.app', lang='id', country='id')['reviews']"
   ]
  },
  {
   "cell_type": "code",
   "execution_count": 86,
   "id": "c288c49e",
   "metadata": {},
   "outputs": [
    {
     "name": "stdout",
     "output_type": "stream",
     "text": [
      "23283\n"
     ]
    }
   ],
   "source": [
    "reviews_2 = reviews_all(\n",
    "    'com.gojek.app',\n",
    "    sleep_milliseconds=0, # defaults to 0\n",
    "    lang='id', # defaults to 'en'\n",
    "    country='id', # defaults to 'us'\n",
    "    sort=Sort.MOST_RELEVANT, # defaults to Sort.MOST_RELEVANT\n",
    "    filter_score_with=2 # defaults to None(means all score)\n",
    ")\n",
    "    \n",
    "print (len(reviews_2))"
   ]
  },
  {
   "cell_type": "code",
   "execution_count": 87,
   "id": "4ba6ff4a",
   "metadata": {},
   "outputs": [
    {
     "name": "stdout",
     "output_type": "stream",
     "text": [
      "796\n"
     ]
    }
   ],
   "source": [
    "reviews_3 = reviews_all(\n",
    "    'com.gojek.app',\n",
    "    sleep_milliseconds=0, # defaults to 0\n",
    "    lang='id', # defaults to 'en'\n",
    "    country='id', # defaults to 'us'\n",
    "    sort=Sort.MOST_RELEVANT, # defaults to Sort.MOST_RELEVANT\n",
    "    filter_score_with=3 # defaults to None(means all score)\n",
    ")\n",
    "    \n",
    "print (len(reviews_3))"
   ]
  },
  {
   "cell_type": "code",
   "execution_count": 88,
   "id": "0f4698d6",
   "metadata": {},
   "outputs": [
    {
     "name": "stdout",
     "output_type": "stream",
     "text": [
      "29850\n"
     ]
    }
   ],
   "source": [
    "reviews_4 = reviews_all(\n",
    "    'com.gojek.app',\n",
    "    sleep_milliseconds=0, # defaults to 0\n",
    "    lang='id', # defaults to 'en'\n",
    "    country='id', # defaults to 'us'\n",
    "    sort=Sort.MOST_RELEVANT, # defaults to Sort.MOST_RELEVANT\n",
    "    filter_score_with=4 # defaults to None(means all score)\n",
    ")\n",
    "    \n",
    "print (len(reviews_4))"
   ]
  },
  {
   "cell_type": "code",
   "execution_count": 89,
   "id": "f9b17ef1",
   "metadata": {},
   "outputs": [
    {
     "name": "stdout",
     "output_type": "stream",
     "text": [
      "20895\n"
     ]
    }
   ],
   "source": [
    "reviews_5 = reviews_all(\n",
    "    'com.gojek.app',\n",
    "    sleep_milliseconds=0, # defaults to 0\n",
    "    lang='id', # defaults to 'en'\n",
    "    country='id', # defaults to 'us'\n",
    "    sort=Sort.MOST_RELEVANT, # defaults to Sort.MOST_RELEVANT\n",
    "    filter_score_with=5 # defaults to None(means all score)\n",
    ")\n",
    "    \n",
    "print (len(reviews_5))"
   ]
  },
  {
   "cell_type": "code",
   "execution_count": 99,
   "id": "f992e383",
   "metadata": {},
   "outputs": [
    {
     "name": "stdout",
     "output_type": "stream",
     "text": [
      "jumlah review bintang 1:  2587\n",
      "jumlah review bintang 2:  23283\n",
      "jumlah review bintang 3:  796\n",
      "jumlah review bintang 4:  29850\n",
      "jumlah review bintang 5:  20895\n",
      "jumlah review total:  77411\n"
     ]
    }
   ],
   "source": [
    "print ('jumlah review bintang 1: ', len(reviews_1))\n",
    "print ('jumlah review bintang 2: ', len(reviews_2))\n",
    "print ('jumlah review bintang 3: ', len(reviews_3))\n",
    "print ('jumlah review bintang 4: ', len(reviews_4))\n",
    "print ('jumlah review bintang 5: ', len(reviews_5))\n",
    "\n",
    "reviews_all = reviews_1 + reviews_2 + reviews_3 + reviews_4 + reviews_5\n",
    "print ('jumlah review total: ', len(reviews_all))"
   ]
  },
  {
   "cell_type": "code",
   "execution_count": 94,
   "id": "f30ab580",
   "metadata": {},
   "outputs": [],
   "source": [
    "import pymongo\n",
    "\n",
    "# Export to MongoDB\n",
    "client = pymongo.MongoClient('localhost', 27017)\n",
    "db = client['nlp-skripsi']\n",
    "coll = db.gojek_reviews\n",
    "\n",
    "\n",
    "for item in reviews_all:\n",
    "    coll.insert_one(item)"
   ]
  }
 ],
 "metadata": {
  "kernelspec": {
   "display_name": "Python 3 (ipykernel)",
   "language": "python",
   "name": "python3"
  },
  "language_info": {
   "codemirror_mode": {
    "name": "ipython",
    "version": 3
   },
   "file_extension": ".py",
   "mimetype": "text/x-python",
   "name": "python",
   "nbconvert_exporter": "python",
   "pygments_lexer": "ipython3",
   "version": "3.10.0"
  }
 },
 "nbformat": 4,
 "nbformat_minor": 5
}
