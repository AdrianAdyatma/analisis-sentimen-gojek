{
 "cells": [
  {
   "cell_type": "code",
   "execution_count": 1,
   "id": "e50a4517",
   "metadata": {},
   "outputs": [],
   "source": [
    "from google_play_scraper import Sort, reviews_all, app"
   ]
  },
  {
   "cell_type": "code",
   "execution_count": 3,
   "id": "7e4576c9",
   "metadata": {
    "scrolled": false
   },
   "outputs": [
    {
     "name": "stdout",
     "output_type": "stream",
     "text": [
      "2842\n"
     ]
    }
   ],
   "source": [
    "bibit_reviews_1 = reviews_all(\n",
    "    'com.bibit.bibitid',\n",
    "    sleep_milliseconds=0, # defaults to 0\n",
    "    lang='id', # defaults to 'en'\n",
    "    country='id', # defaults to 'us'\n",
    "    sort=Sort.MOST_RELEVANT, # defaults to Sort.MOST_RELEVANT\n",
    "    filter_score_with=1 # defaults to None(means all score)\n",
    ")\n",
    "    \n",
    "print (len(bibit_reviews_1))"
   ]
  },
  {
   "cell_type": "code",
   "execution_count": 4,
   "id": "c288c49e",
   "metadata": {},
   "outputs": [
    {
     "name": "stdout",
     "output_type": "stream",
     "text": [
      "773\n"
     ]
    }
   ],
   "source": [
    "bibit_reviews_2 = reviews_all(\n",
    "    'com.bibit.bibitid',\n",
    "    sleep_milliseconds=0, # defaults to 0\n",
    "    lang='id', # defaults to 'en'\n",
    "    country='id', # defaults to 'us'\n",
    "    sort=Sort.MOST_RELEVANT, # defaults to Sort.MOST_RELEVANT\n",
    "    filter_score_with=2 # defaults to None(means all score)\n",
    ")\n",
    "    \n",
    "print (len(bibit_reviews_2))"
   ]
  },
  {
   "cell_type": "code",
   "execution_count": 5,
   "id": "4ba6ff4a",
   "metadata": {},
   "outputs": [
    {
     "name": "stdout",
     "output_type": "stream",
     "text": [
      "1610\n"
     ]
    }
   ],
   "source": [
    "bibit_reviews_3 = reviews_all(\n",
    "    'com.bibit.bibitid',\n",
    "    sleep_milliseconds=0, # defaults to 0\n",
    "    lang='id', # defaults to 'en'\n",
    "    country='id', # defaults to 'us'\n",
    "    sort=Sort.MOST_RELEVANT, # defaults to Sort.MOST_RELEVANT\n",
    "    filter_score_with=3 # defaults to None(means all score)\n",
    ")\n",
    "    \n",
    "print (len(bibit_reviews_3))"
   ]
  },
  {
   "cell_type": "code",
   "execution_count": 6,
   "id": "0f4698d6",
   "metadata": {},
   "outputs": [
    {
     "name": "stdout",
     "output_type": "stream",
     "text": [
      "3974\n"
     ]
    }
   ],
   "source": [
    "bibit_reviews_4 = reviews_all(\n",
    "    'com.bibit.bibitid',\n",
    "    sleep_milliseconds=0, # defaults to 0\n",
    "    lang='id', # defaults to 'en'\n",
    "    country='id', # defaults to 'us'\n",
    "    sort=Sort.MOST_RELEVANT, # defaults to Sort.MOST_RELEVANT\n",
    "    filter_score_with=4 # defaults to None(means all score)\n",
    ")\n",
    "    \n",
    "print (len(bibit_reviews_4))"
   ]
  },
  {
   "cell_type": "code",
   "execution_count": 7,
   "id": "f9b17ef1",
   "metadata": {},
   "outputs": [
    {
     "name": "stdout",
     "output_type": "stream",
     "text": [
      "25665\n"
     ]
    }
   ],
   "source": [
    "bibit_reviews_5 = reviews_all(\n",
    "    'com.bibit.bibitid',\n",
    "    sleep_milliseconds=0, # defaults to 0\n",
    "    lang='id', # defaults to 'en'\n",
    "    country='id', # defaults to 'us'\n",
    "    sort=Sort.MOST_RELEVANT, # defaults to Sort.MOST_RELEVANT\n",
    "    filter_score_with=5 # defaults to None(means all score)\n",
    ")\n",
    "    \n",
    "print (len(bibit_reviews_5))"
   ]
  },
  {
   "cell_type": "code",
   "execution_count": 11,
   "id": "76ab6143",
   "metadata": {},
   "outputs": [
    {
     "name": "stdout",
     "output_type": "stream",
     "text": [
      "{'reviewId': 'gp:AOqpTOENSTe2nNbFgk0zy6ouEgzkLLDHSCgP9XKZU6dAn48vaFugxD5JOrcydizKJTYXuWl9yPGwj3o2vQWU9A', 'userName': 'Nandar Afuk', 'userImage': 'https://play-lh.googleusercontent.com/a-/AOh14GiZf3anrRXF-doLmbTo5Eu_wEDgEI-vjGkTDo6n', 'content': 'Awal nya bagus, ada fluktuasi dana nya.. Selang 3 hari ga ada perubahan, dana mentok diangka yg sama gak gerak².. Blom lg masa penarikan terlalu lama, dan tidak sesuai dengan kondisi pas penarikannya..', 'score': 2, 'thumbsUpCount': 50, 'reviewCreatedVersion': '3.26.3', 'at': datetime.datetime(2022, 1, 17, 1, 17, 13), 'replyContent': 'Hai kak, NAB dapat berubah mengikuti keadaan ekonomi & kinerja Manajer Investasi. Tetap fokus jangka panjang ya. Pencairan dana dikirim oleh Bank Kustodian ke rekening terdaftar di Bibit sesuai ketentuan OJK maks 7 hari kerja. Info lebih lanjut hubungi layanan live chat Bibit atau WA +622150864230, tim support akan membantu kakak. Terima kasih\\n', 'repliedAt': datetime.datetime(2022, 1, 17, 8, 19, 6)}\n"
     ]
    }
   ],
   "source": [
    "print (bibit_reviews_2[0])"
   ]
  },
  {
   "cell_type": "code",
   "execution_count": 12,
   "id": "f992e383",
   "metadata": {},
   "outputs": [
    {
     "name": "stdout",
     "output_type": "stream",
     "text": [
      "jumlah review bintang 1:  2842\n",
      "jumlah review bintang 2:  773\n",
      "jumlah review bintang 3:  1610\n",
      "jumlah review bintang 4:  3974\n",
      "jumlah review bintang 5:  25665\n",
      "jumlah review total:  34864\n"
     ]
    }
   ],
   "source": [
    "print ('jumlah review bintang 1: ', len(bibit_reviews_1))\n",
    "print ('jumlah review bintang 2: ', len(bibit_reviews_2))\n",
    "print ('jumlah review bintang 3: ', len(bibit_reviews_3))\n",
    "print ('jumlah review bintang 4: ', len(bibit_reviews_4))\n",
    "print ('jumlah review bintang 5: ', len(bibit_reviews_5))\n",
    "\n",
    "reviews_all = bibit_reviews_1 + bibit_reviews_2 + bibit_reviews_3 + bibit_reviews_4 + bibit_reviews_5\n",
    "print ('jumlah review total: ', len(reviews_all))"
   ]
  },
  {
   "cell_type": "code",
   "execution_count": 14,
   "id": "f30ab580",
   "metadata": {},
   "outputs": [],
   "source": [
    "import pymongo\n",
    "\n",
    "# Export to MongoDB\n",
    "client = pymongo.MongoClient('localhost', 27017)\n",
    "db = client['nlp-skripsi']\n",
    "coll = db.bibit_reviews\n",
    "\n",
    "\n",
    "for item in reviews_all:\n",
    "    coll.insert_one(item)"
   ]
  },
  {
   "cell_type": "code",
   "execution_count": 15,
   "id": "db462b3a",
   "metadata": {},
   "outputs": [],
   "source": [
    "import pandas as pd"
   ]
  },
  {
   "cell_type": "code",
   "execution_count": 24,
   "id": "e2e43fd5",
   "metadata": {},
   "outputs": [
    {
     "data": {
      "text/plain": [
       "0        Sebenarnya aplikasi ini bagus, sayang cuma dal...\n",
       "1        Mau nyoba invest, malah Gak bisa log in Terus ...\n",
       "2        Bibit erorr ya, sejak kemarin akun saya kok ga...\n",
       "3        tgl,29 Des 2021 jam,13.36 mana kata nya mau di...\n",
       "4        Pembelian terverifikasi sangat lambat . Baru b...\n",
       "                               ...                        \n",
       "34859                                                  💪😇😇\n",
       "34860                                                   ;🤩\n",
       "34861                                                   👍🏻\n",
       "34862                                                  🙏👌👍\n",
       "34863                                                (•-•)\n",
       "Name: content, Length: 34864, dtype: object"
      ]
     },
     "execution_count": 24,
     "metadata": {},
     "output_type": "execute_result"
    }
   ],
   "source": [
    "# Dataframe\n",
    "df = pd.DataFrame(reviews_all)\n",
    "\n",
    "df['content']\n",
    "\n",
    "# print ('Dataset size, column:', df.shape)\n",
    "# # df.info()\n",
    "# df.sample(n=10, usecols='content')"
   ]
  }
 ],
 "metadata": {
  "kernelspec": {
   "display_name": "Python 3 (ipykernel)",
   "language": "python",
   "name": "python3"
  },
  "language_info": {
   "codemirror_mode": {
    "name": "ipython",
    "version": 3
   },
   "file_extension": ".py",
   "mimetype": "text/x-python",
   "name": "python",
   "nbconvert_exporter": "python",
   "pygments_lexer": "ipython3",
   "version": "3.10.0"
  }
 },
 "nbformat": 4,
 "nbformat_minor": 5
}
